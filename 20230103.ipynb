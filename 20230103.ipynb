{
 "cells": [
  {
   "attachments": {},
   "cell_type": "markdown",
   "metadata": {},
   "source": [
    "# INFORMATION_SCHEMA"
   ]
  },
  {
   "attachments": {},
   "cell_type": "markdown",
   "metadata": {},
   "source": [
    "- requirements : JOBS_BY_FOLDER & JOBS_BY_ORGANIZATION & JOBS_BY_PROJET (bigquery resource Admin)"
   ]
  },
  {
   "attachments": {},
   "cell_type": "markdown",
   "metadata": {},
   "source": [
    "## DAILY SLOT USAGE"
   ]
  },
  {
   "cell_type": "code",
   "execution_count": null,
   "metadata": {},
   "outputs": [],
   "source": [
    "with table_a as (\n",
    "--https://github.com/rho715/bigquery-utils/blob/master/dashboards/system_tables/sql/daily_commitments.sql\n",
    "WITH\n",
    "  commitments AS (\n",
    "    SELECT\n",
    "      change_timestamp,\n",
    "      commitment_plan,\n",
    "      action,\n",
    "      EXTRACT(DATE FROM change_timestamp) AS start_date,\n",
    "      -- Compute the stop date of a commitment by looking at the following\n",
    "      -- change_timestamp and subtracting one day. This works because monthly\n",
    "      -- and yearly commitments cannot be deleted on the same day\n",
    "      -- they were created.\n",
    "      IFNULL(\n",
    "        LEAD(DATE_SUB(EXTRACT(DATE FROM change_timestamp), INTERVAL 1 DAY))\n",
    "          OVER (PARTITION BY state ORDER BY change_timestamp),\n",
    "        CURRENT_DATE()) AS stop_date,\n",
    "      -- In order to calculate the cumulative slots up to this point, add\n",
    "      -- the slot count of new commitments (indicated by a CREATE or UPDATE action)\n",
    "      -- and subtract the slot count of deleted commitments\n",
    "      SUM(CASE WHEN cccp.action IN ('CREATE', 'UPDATE') THEN cccp.slot_count ELSE cccp.slot_count * -1 END)\n",
    "        -- Cumulative slots are tracked by their state and carried over from\n",
    "        -- previous rows\n",
    "        OVER (\n",
    "          PARTITION BY state\n",
    "          ORDER BY change_timestamp ROWS BETWEEN UNBOUNDED PRECEDING AND CURRENT ROW\n",
    "        ) AS slot_cummulative,\n",
    "      -- In the event that multiple changes occurred in one day, we keep track\n",
    "      -- of the most recent cumulative value by using row numbers\n",
    "      ROW_NUMBER()\n",
    "        OVER (\n",
    "          PARTITION BY EXTRACT(DATE FROM change_timestamp)\n",
    "          ORDER BY change_timestamp DESC\n",
    "        ) AS rn\n",
    "    FROM\n",
    "       `region-asia-northeast3`.INFORMATION_SCHEMA.CAPACITY_COMMITMENT_CHANGES_BY_PROJECT AS cccp\n",
    "    -- In this case, we only want to look at active commitments that are\n",
    "    -- monthly or annual, not flex\n",
    "    WHERE\n",
    "      state = 'ACTIVE'\n",
    "      AND commitment_plan != 'FLEX'\n",
    "    ORDER BY change_timestamp\n",
    "  ),\n",
    "  results AS (SELECT * FROM commitments WHERE rn = 1),\n",
    "  days AS (\n",
    "    -- This subquery is used to fill in the missing days between a commitment\n",
    "    -- starting and ending so that it can be graphed properly.\n",
    "    SELECT day\n",
    "    FROM (\n",
    "       SELECT\n",
    "         start_date,\n",
    "         stop_date\n",
    "       FROM results\n",
    "     ), UNNEST(GENERATE_DATE_ARRAY(start_date, stop_date)) day\n",
    "  )\n",
    "SELECT TIMESTAMP(day) as date, LAST_VALUE(slot_cummulative IGNORE NULLS) OVER(ORDER BY day) slots,\n",
    "FROM days\n",
    "-- Join these results with the cumulative slot count values for each day\n",
    "LEFT JOIN results\n",
    "  ON day = DATE(change_timestamp)\n",
    ")\n",
    ", \n",
    "table_b as (\n",
    "--https://github.com/rho715/bigquery-utils/blob/master/dashboards/system_tables/sql/daily_utilization.sql\n",
    "SELECT\n",
    "  TIMESTAMP_TRUNC(jbo.creation_time, DAY) AS usage_date,\n",
    "  jbo.reservation_id,\n",
    "  jbo.project_id,\n",
    "  jbo.job_type,\n",
    "  jbo.user_email,\n",
    "  -- Aggregate total_slots_ms used for all jobs on this day and divide\n",
    "  -- by the number of milliseconds in a day. Most accurate for days with\n",
    "  -- consistent slot usage\n",
    "  SUM(jbo.total_slot_ms) / (1000 * 60 * 60 * 24) AS average_daily_slot_usage\n",
    "FROM\n",
    "   `region-asia-northeast3`.INFORMATION_SCHEMA.JOBS_BY_ORGANIZATION jbo\n",
    "GROUP BY\n",
    "  usage_date,\n",
    "  jbo.project_id,\n",
    "  jbo.job_type,\n",
    "  jbo.user_email,\n",
    "  jbo.reservation_id\n",
    "ORDER BY\n",
    "  usage_date ASC\n",
    ")\n",
    "select table_a.date   \n",
    "      , table_a.slots \n",
    "      , table_b.average_daily_slot_usage\n",
    "from table_a\n",
    "left join table_b on table_a.date = table_b.usage_date"
   ]
  },
  {
   "attachments": {},
   "cell_type": "markdown",
   "metadata": {},
   "source": [
    "## HOURLY SLOT USAGE"
   ]
  },
  {
   "cell_type": "code",
   "execution_count": 1,
   "metadata": {},
   "outputs": [
    {
     "ename": "SyntaxError",
     "evalue": "invalid syntax (1582267095.py, line 1)",
     "output_type": "error",
     "traceback": [
      "\u001b[0;36m  Input \u001b[0;32mIn [1]\u001b[0;36m\u001b[0m\n\u001b[0;31m    with jbf as (--https://github.com/rho715/bigquery-utils/blob/master/dashboards/system_tables/sql/hourly_utilization.sql\u001b[0m\n\u001b[0m                        ^\u001b[0m\n\u001b[0;31mSyntaxError\u001b[0m\u001b[0;31m:\u001b[0m invalid syntax\n"
     ]
    }
   ],
   "source": [
    "with jbf as (--https://github.com/rho715/bigquery-utils/blob/master/dashboards/system_tables/sql/hourly_utilization.sql\n",
    "SELECT\n",
    "  -- usage_time is used for grouping jobs by the hour\n",
    "  -- usage_date is used to separately store the date this job occurred\n",
    "  TIMESTAMP_TRUNC(TIMESTAMP_ADD(TIMESTAMP(jbf.creation_time), INTERVAL 9 HOUR) , HOUR) AS usage_time,\n",
    "  EXTRACT(DATE from TIMESTAMP_ADD(TIMESTAMP(jbf.creation_time), INTERVAL 9 HOUR) ) AS usage_date,\n",
    "  -- jbf.reservation_id,\n",
    "  jbf.project_id,\n",
    "  jbf.job_id,\n",
    "  TIMESTAMP_ADD(TIMESTAMP(jbf.start_time), INTERVAL 9 HOUR) start_time,\n",
    "  TIMESTAMP_ADD(TIMESTAMP(jbf.end_time), INTERVAL 9 HOUR) end_time,\n",
    "  jbf.state,\n",
    "  jbf.total_bytes_processed, \n",
    "  jbf.job_type,\n",
    "  jbf.user_email,\n",
    "  jbf.error_result.reason error_result_reason,\n",
    "  jbf.error_result.message error_result_message,\n",
    "  -- Aggregate total_slots_ms used for all jobs at this hour and divide\n",
    "  -- by the number of milliseconds in an hour. Most accurate for hours with\n",
    "  -- consistent slot usage\n",
    "  SUM(jbf.total_slot_ms) / (1000 * 60 * 60) AS average_hourly_slot_usage\n",
    "FROM\n",
    "   `region-asia-northeast3`.INFORMATION_SCHEMA.JOBS_BY_FOLDER jbf\n",
    "GROUP BY\n",
    "  usage_time,\n",
    "  usage_date,\n",
    "  jbf.project_id,\n",
    "  jbf.job_id,\n",
    "  start_time,\n",
    "  end_time,\n",
    "  jbf.state,\n",
    "  jbf.total_bytes_processed, \n",
    "  jbf.job_type,\n",
    "  jbf.user_email,\n",
    "  jbf.error_result.reason ,\n",
    "  jbf.error_result.message \n",
    "ORDER BY\n",
    "  usage_time ASC\n",
    ")\n",
    "select jbf.*\n",
    "    , jbp.query\n",
    "    , case when error_result_reason is null then 'COMPLETE' else 'ERROR' end as job_status \n",
    "    , timestamp_diff(jbf.end_time, jbf.start_time, second) as job_duration_seconds\n",
    "from jbf\n",
    "LEFT JOIN `wavvedp-prd.tmp_rho715.jobs_by_project` jbp on jbf.job_id = jbp.job_id\n",
    "\n"
   ]
  },
  {
   "cell_type": "code",
   "execution_count": null,
   "metadata": {},
   "outputs": [],
   "source": []
  }
 ],
 "metadata": {
  "kernelspec": {
   "display_name": "base",
   "language": "python",
   "name": "python3"
  },
  "language_info": {
   "codemirror_mode": {
    "name": "ipython",
    "version": 3
   },
   "file_extension": ".py",
   "mimetype": "text/x-python",
   "name": "python",
   "nbconvert_exporter": "python",
   "pygments_lexer": "ipython3",
   "version": "3.9.12 (main, Apr  5 2022, 01:53:17) \n[Clang 12.0.0 ]"
  },
  "orig_nbformat": 4,
  "vscode": {
   "interpreter": {
    "hash": "10852dbf0da5e50a47e1f62696659d5ba32ce64c569a85913bfe3a1bd11b8123"
   }
  }
 },
 "nbformat": 4,
 "nbformat_minor": 2
}
