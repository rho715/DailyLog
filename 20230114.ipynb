{
 "cells": [
  {
   "attachments": {},
   "cell_type": "markdown",
   "metadata": {},
   "source": [
    "# VIM 정리"
   ]
  },
  {
   "attachments": {},
   "cell_type": "markdown",
   "metadata": {},
   "source": [
    "> `ctrl` == control^\n",
    "\n",
    "## 입력모드\n",
    "- `i` : abcd 에서 c 에 커서가 있다면 abicd\n",
    "- `a` : abcd 에서 c 에 커서가 있다면 abcid\n",
    "- `I` : abcd 에서 c 에 커서가 있어도 iabcd\n",
    "- `A` : abcd 에서 c 에 커서가 있어도 abcdi\n",
    "\n",
    "## navigation\n",
    "- h,j,k,l : 이동 커서\n",
    "- `0` : 문장 앞으로 \n",
    "- `$` : 문장 맨뒤로\n",
    "- `w` : 단어 단위로 앞으로 이동\n",
    "- `b` : 단어 단위로 백으로 이동\n",
    "- n`w` : 예. `3w` 3단어씩 이동\n",
    "- `H` : **화면** 위\n",
    "- `M` : **화면** 중간\n",
    "- `L` : **화면** 끝\n",
    "- `gg` : 파일 앞\n",
    "- `G` : 파일 끝\n",
    "- n`G` : 예. `20G` 20번째 줄로 이동\n",
    "- `ctrl + u` : 위로 스크롤 \n",
    "- `ctrl + d` : 아래로 스크롤 \n",
    "- `{` : 문단 시작 \n",
    "- `}` : 문단 끝\n",
    "\n",
    "## 명령모드\n",
    "- `x` : 커서 아래 글자 삭제 \n",
    "- `dd` : 문장 삭제 \n",
    "- `yy` : 문장 복사\n",
    "- `p` : 붙여넣기\n",
    "- `*p` : 클립보드 붙여넣기\n",
    "\n",
    "## command + object \n",
    "- `d` delete(cut), `y` yank(copy), `c` change \n",
    "- `d wq` : delete three words \n",
    "- `d it` : delete inner tags (works for html : <p>vim is screen based </P>)\n",
    "- `d at` : delete at a tag\n",
    "- `d ap` : delete a paragraph \n",
    "- `d as` : delete a sentence\n",
    "- `.` : 반복\n",
    "- `u` : undo 되감기\n",
    "- `ctrl + R` : 앞감기 \n",
    "- `d2j` : delete two rows below \n",
    "- `d3k` : delete three rows above\n",
    "- `di{` : delete inside {} (ie. {hey hey hey hey asdfjasf})\n",
    "- `di(` : delete inside () (ie. {hey hey hey hey asdfjasf})\n",
    "- `da(` : delete all () (ie. {hey hey hey hey asdfjasf})\n",
    "- `ci[` : change inside []; this puts you into insert mode (ie. [yoon, jung, rho])\n",
    "\n",
    "## smarter\n",
    "- `df(` : delete full \"(\" (ie. this is testing from [show , hello] (another parenthesis))\n",
    "- `dt(` : delete til \"(\" (ie. this is testing from [show , hello] (another parenthesis)\n",
    "- `d/[input keyword]` : delete search (ie. press `d/` and if you type [delete] it will delete everything that's infront of delete)\n",
    "- `/` : search -> `n` next word \n",
    "- `?` : search -> `n` search backwards \n",
    "\n",
    "- `v` : select mode\n",
    "- `vaw` : select a word \n",
    "- `ctrl + v` : block selct \n",
    "\n",
    "## if you want to know more \n",
    "- type `vimtutor`\n",
    "\n",
    "\n",
    "## practice \n",
    "```\n",
    "var a \n",
    "var b \n",
    "var c \n",
    "\n",
    "- `d it` : delete inner tags (works for html : <p>vim is screen based </P>)\n",
    "```"
   ]
  },
  {
   "attachments": {},
   "cell_type": "markdown",
   "metadata": {},
   "source": [
    "# Title"
   ]
  },
  {
   "attachments": {},
   "cell_type": "markdown",
   "metadata": {},
   "source": [
    "## 설명"
   ]
  },
  {
   "cell_type": "code",
   "execution_count": null,
   "metadata": {},
   "outputs": [],
   "source": [
    "heyhey abcd heyehyehye\n",
    "sdfasdfasdfasdf asdf sd sdfsd fsdf sdf sdf s f sf sdf s fs fs df "
   ]
  }
 ],
 "metadata": {
  "kernelspec": {
   "display_name": "base",
   "language": "python",
   "name": "python3"
  },
  "language_info": {
   "codemirror_mode": {
    "name": "ipython",
    "version": 3
   },
   "file_extension": ".py",
   "mimetype": "text/x-python",
   "name": "python",
   "nbconvert_exporter": "python",
   "pygments_lexer": "ipython3",
   "version": "3.9.12 (main, Apr  5 2022, 01:53:17) \n[Clang 12.0.0 ]"
  },
  "orig_nbformat": 4,
  "vscode": {
   "interpreter": {
    "hash": "10852dbf0da5e50a47e1f62696659d5ba32ce64c569a85913bfe3a1bd11b8123"
   }
  }
 },
 "nbformat": 4,
 "nbformat_minor": 2
}
