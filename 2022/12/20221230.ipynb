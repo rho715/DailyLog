{
 "cells": [
  {
   "attachments": {},
   "cell_type": "markdown",
   "metadata": {},
   "source": [
    "# Python datetime & timezone 뽀개기"
   ]
  },
  {
   "attachments": {},
   "cell_type": "markdown",
   "metadata": {},
   "source": [
    "## 설명"
   ]
  },
  {
   "attachments": {},
   "cell_type": "markdown",
   "metadata": {},
   "source": [
    "- `strftime` : is used to convert a datetime object to a string (datetime -> string)\n",
    "- `strptime` : is used to convert a string to a datetime object (string -> datetime)\n",
    "\n",
    "```\n",
    "import datetime\n",
    "\n",
    "dt = datetime.datetime(2022, 12, 12)\n",
    "s = dt.strftime(\"%Y-%m-%d\")\n",
    "print(s)  # prints \"2022-12-12\"\n",
    "\n",
    "```\n",
    "\n",
    "```\n",
    "import datetime\n",
    "\n",
    "s = \"2022-12-12\"\n",
    "dt = datetime.datetime.strptime(s, \"%Y-%m-%d\")\n",
    "print(dt)  # prints \"2022-12-12 00:00:00\"\n",
    "\n",
    "```"
   ]
  },
  {
   "attachments": {},
   "cell_type": "markdown",
   "metadata": {},
   "source": [
    "# string -> date & date -> string"
   ]
  },
  {
   "cell_type": "code",
   "execution_count": 4,
   "metadata": {},
   "outputs": [
    {
     "name": "stdout",
     "output_type": "stream",
     "text": [
      "#from string to date\n",
      "20221212 type is <class 'str'>\n",
      "2022-12-12 type is <class 'datetime.date'>\n",
      "\n",
      "#from date to string\n",
      "2022-12-12 type is <class 'str'>\n",
      "2022-12-12 00:00:00 type is <class 'datetime.datetime'>\n"
     ]
    }
   ],
   "source": [
    "from datetime import datetime, timedelta, timezone\n",
    "\n",
    "print( \"#from string to date\")\n",
    "yyyymmdd_str = '20221212'\n",
    "yyyymmdd_date = datetime.strptime(yyyymmdd_str, '%Y%m%d').date()\n",
    "\n",
    "print(yyyymmdd_str, \"type is\", type(yyyymmdd_str))\n",
    "print(yyyymmdd_date, \"type is\", type(yyyymmdd_date))\n",
    "\n",
    "print(\"\\n#from date to string\")\n",
    "yyyymmdd_date = datetime(2022, 12, 12)\n",
    "yyyymmdd_str = yyyymmdd_date.strftime(\"%Y-%m-%d\")\n",
    "\n",
    "print(yyyymmdd_str, \"type is\", type(yyyymmdd_str))\n",
    "print(yyyymmdd_date, \"type is\", type(yyyymmdd_date))"
   ]
  },
  {
   "attachments": {},
   "cell_type": "markdown",
   "metadata": {},
   "source": [
    "# timezone"
   ]
  },
  {
   "cell_type": "code",
   "execution_count": 16,
   "metadata": {},
   "outputs": [
    {
     "name": "stdout",
     "output_type": "stream",
     "text": [
      "timestamp_now_UTC :  2022-12-30 16:14:48.156993\n",
      "timestamp_now_KST :  2022-12-30 16:14:48.157021+09:00\n"
     ]
    }
   ],
   "source": [
    "from datetime import datetime, timedelta, timezone\n",
    "\n",
    "timestamp_now_UTC = datetime.now()\n",
    "timestamp_now_KST = datetime.now(timezone(timedelta(hours=9)))\n",
    "\n",
    "print(\"timestamp_now_UTC : \", timestamp_now_UTC)\n",
    "print(\"timestamp_now_KST : \", timestamp_now_KST)"
   ]
  },
  {
   "cell_type": "code",
   "execution_count": 13,
   "metadata": {},
   "outputs": [
    {
     "name": "stdout",
     "output_type": "stream",
     "text": [
      "timestamp_UTC :  2022-12-12 01:01:01 <class 'datetime.datetime'>\n",
      "timestamp_KST :  2022-12-12 01:01:01+09:00 <class 'datetime.datetime'>\n"
     ]
    }
   ],
   "source": [
    "from datetime import datetime, timedelta, timezone\n",
    "\n",
    "timezone_kst = timezone(timedelta(hours=9))\n",
    "\n",
    "# UTC -> KST \n",
    "timestamp_UTC = datetime(2022, 12, 12,  1, 1, 1)\n",
    "print(\"timestamp_UTC : \", timestamp_UTC, type(timestamp_UTC))\n",
    "timestamp_KST = timestamp_UTC.astimezone(timezone_kst)\n",
    "print(\"timestamp_KST : \", timestamp_KST, type(timestamp_KST))"
   ]
  },
  {
   "cell_type": "code",
   "execution_count": 14,
   "metadata": {},
   "outputs": [
    {
     "name": "stdout",
     "output_type": "stream",
     "text": [
      "timestamp_KST :  2022-12-12 01:01:01 <class 'datetime.datetime'>\n",
      "timestamp_UTC :  2022-12-11 16:01:01+00:00 <class 'datetime.datetime'>\n"
     ]
    }
   ],
   "source": [
    "from datetime import datetime, timedelta, timezone\n",
    "\n",
    "timezone_utc = timezone.utc \n",
    "\n",
    "# KST -> UTC\n",
    "timestamp_KST = datetime(2022, 12, 12,  1, 1, 1)\n",
    "print(\"timestamp_KST : \", timestamp_KST, type(timestamp_KST))\n",
    "timestamp_UTC = timestamp_KST.astimezone(timezone_utc)\n",
    "print(\"timestamp_UTC : \", timestamp_UTC, type(timestamp_UTC))"
   ]
  },
  {
   "cell_type": "code",
   "execution_count": 15,
   "metadata": {},
   "outputs": [
    {
     "name": "stdout",
     "output_type": "stream",
     "text": [
      "\n",
      "query_date_UTC : from datetime -> string\n",
      "20221210 16\n",
      "\n",
      "query_date_KST : from datetime -> string\n",
      "20221211 01\n"
     ]
    }
   ],
   "source": [
    "from datetime import datetime, timedelta, timezone\n",
    "\n",
    "timezone_utc = timezone.utc \n",
    "\n",
    "timestamp_KST = datetime(2022, 12, 12,  1, 1, 1)\n",
    "timestamp_UTC = timestamp_KST.astimezone(timezone_utc)\n",
    "\n",
    "delta = timedelta(days=1)\n",
    "\n",
    "query_date_UTC = timestamp_UTC - delta\n",
    "query_date_KST = timestamp_KST - delta\n",
    "\n",
    "print(\"\\nquery_date_UTC : from datetime -> string\")\n",
    "yyyy, mm, dd = (query_date_UTC.strftime('%Y'), query_date_UTC.strftime('%m'), query_date_UTC.strftime('%d'))\n",
    "yyyymmdd, yyyy_mm_dd = (query_date_UTC.strftime('%Y%m%d'), query_date_UTC.strftime('%Y-%m-%d'))\n",
    "hh = query_date_UTC.strftime('%H')  # 시\n",
    "print(yyyymmdd, hh)\n",
    "\n",
    "print(\"\\nquery_date_KST : from datetime -> string\")\n",
    "yyyy, mm, dd = (query_date_KST.strftime('%Y'), query_date_KST.strftime('%m'), query_date_KST.strftime('%d'))\n",
    "yyyymmdd, yyyy_mm_dd = (query_date_KST.strftime('%Y%m%d'), query_date_KST.strftime('%Y-%m-%d'))\n",
    "hh = query_date_KST.strftime('%H')  # 시\n",
    "print(yyyymmdd, hh)"
   ]
  },
  {
   "attachments": {},
   "cell_type": "markdown",
   "metadata": {},
   "source": [
    "# pandas "
   ]
  },
  {
   "attachments": {},
   "cell_type": "markdown",
   "metadata": {},
   "source": [
    "## `date_range()`"
   ]
  },
  {
   "cell_type": "code",
   "execution_count": 2,
   "metadata": {},
   "outputs": [
    {
     "name": "stdout",
     "output_type": "stream",
     "text": [
      "printing datelist_periods\n",
      "2016-07-01 00:00:00\n",
      "2016-07-02 00:00:00\n",
      "2016-07-03 00:00:00\n",
      "2016-07-04 00:00:00\n",
      "2016-07-05 00:00:00\n",
      "2016-07-06 00:00:00\n",
      "\n",
      "printing datelist_from_to\n",
      "2016-07-01 00:00:00\n",
      "2016-07-02 00:00:00\n",
      "2016-07-03 00:00:00\n"
     ]
    }
   ],
   "source": [
    "import pandas as pd \n",
    "import numpy as np \n",
    "\n",
    "#date range\n",
    "datelist_periods= pd.date_range('20160701', periods = 6).tolist()\n",
    "datelist_from_to = pd.date_range('20160701', '20160703').tolist()\n",
    "\n",
    "print(\"printing datelist_periods\")\n",
    "print(*datelist_periods, sep = '\\n')\n",
    "print(\"\\nprinting datelist_from_to\")\n",
    "print(*datelist_from_to, sep = '\\n')\n",
    " "
   ]
  },
  {
   "cell_type": "code",
   "execution_count": 25,
   "metadata": {},
   "outputs": [
    {
     "data": {
      "text/html": [
       "<div>\n",
       "<style scoped>\n",
       "    .dataframe tbody tr th:only-of-type {\n",
       "        vertical-align: middle;\n",
       "    }\n",
       "\n",
       "    .dataframe tbody tr th {\n",
       "        vertical-align: top;\n",
       "    }\n",
       "\n",
       "    .dataframe thead th {\n",
       "        text-align: right;\n",
       "    }\n",
       "</style>\n",
       "<table border=\"1\" class=\"dataframe\">\n",
       "  <thead>\n",
       "    <tr style=\"text-align: right;\">\n",
       "      <th></th>\n",
       "      <th>0</th>\n",
       "      <th>1</th>\n",
       "      <th>2</th>\n",
       "      <th>3</th>\n",
       "      <th>yyyy_mm_dd</th>\n",
       "      <th>yyyy</th>\n",
       "      <th>mm</th>\n",
       "      <th>Yr_Mo_dy</th>\n",
       "      <th>Yr_Mo_dy_edit</th>\n",
       "    </tr>\n",
       "  </thead>\n",
       "  <tbody>\n",
       "    <tr>\n",
       "      <th>2016-07-01</th>\n",
       "      <td>1.562964</td>\n",
       "      <td>0.207193</td>\n",
       "      <td>0.712025</td>\n",
       "      <td>-1.039374</td>\n",
       "      <td>2016-07-01</td>\n",
       "      <td>2022-01-01</td>\n",
       "      <td>1900-02-01</td>\n",
       "      <td>2022-12-11</td>\n",
       "      <td>2022-12-11</td>\n",
       "    </tr>\n",
       "    <tr>\n",
       "      <th>2016-07-02</th>\n",
       "      <td>-0.728372</td>\n",
       "      <td>1.227793</td>\n",
       "      <td>0.482590</td>\n",
       "      <td>-2.384467</td>\n",
       "      <td>2016-07-02</td>\n",
       "      <td>2022-01-01</td>\n",
       "      <td>1900-02-01</td>\n",
       "      <td>2022-12-11</td>\n",
       "      <td>2022-12-11</td>\n",
       "    </tr>\n",
       "    <tr>\n",
       "      <th>2016-07-03</th>\n",
       "      <td>1.264134</td>\n",
       "      <td>-0.172335</td>\n",
       "      <td>-0.335445</td>\n",
       "      <td>-0.514394</td>\n",
       "      <td>2016-07-03</td>\n",
       "      <td>2022-01-01</td>\n",
       "      <td>1900-02-01</td>\n",
       "      <td>2022-12-11</td>\n",
       "      <td>2022-12-11</td>\n",
       "    </tr>\n",
       "    <tr>\n",
       "      <th>2016-07-04</th>\n",
       "      <td>-0.065050</td>\n",
       "      <td>-0.407407</td>\n",
       "      <td>1.052799</td>\n",
       "      <td>-0.922738</td>\n",
       "      <td>2016-07-04</td>\n",
       "      <td>2022-01-01</td>\n",
       "      <td>1900-02-01</td>\n",
       "      <td>2022-12-11</td>\n",
       "      <td>2022-12-11</td>\n",
       "    </tr>\n",
       "    <tr>\n",
       "      <th>2016-07-05</th>\n",
       "      <td>0.136425</td>\n",
       "      <td>-0.013783</td>\n",
       "      <td>-0.221284</td>\n",
       "      <td>0.773381</td>\n",
       "      <td>2016-07-05</td>\n",
       "      <td>2022-01-01</td>\n",
       "      <td>1900-02-01</td>\n",
       "      <td>2022-12-11</td>\n",
       "      <td>2022-12-11</td>\n",
       "    </tr>\n",
       "    <tr>\n",
       "      <th>2016-07-06</th>\n",
       "      <td>1.364886</td>\n",
       "      <td>-0.956820</td>\n",
       "      <td>-0.651486</td>\n",
       "      <td>-1.798665</td>\n",
       "      <td>2016-07-06</td>\n",
       "      <td>2022-01-01</td>\n",
       "      <td>1900-02-01</td>\n",
       "      <td>2022-12-11</td>\n",
       "      <td>2022-12-11</td>\n",
       "    </tr>\n",
       "  </tbody>\n",
       "</table>\n",
       "</div>"
      ],
      "text/plain": [
       "                   0         1         2         3 yyyy_mm_dd       yyyy  \\\n",
       "2016-07-01  1.562964  0.207193  0.712025 -1.039374 2016-07-01 2022-01-01   \n",
       "2016-07-02 -0.728372  1.227793  0.482590 -2.384467 2016-07-02 2022-01-01   \n",
       "2016-07-03  1.264134 -0.172335 -0.335445 -0.514394 2016-07-03 2022-01-01   \n",
       "2016-07-04 -0.065050 -0.407407  1.052799 -0.922738 2016-07-04 2022-01-01   \n",
       "2016-07-05  0.136425 -0.013783 -0.221284  0.773381 2016-07-05 2022-01-01   \n",
       "2016-07-06  1.364886 -0.956820 -0.651486 -1.798665 2016-07-06 2022-01-01   \n",
       "\n",
       "                   mm    Yr_Mo_dy Yr_Mo_dy_edit  \n",
       "2016-07-01 1900-02-01  2022-12-11    2022-12-11  \n",
       "2016-07-02 1900-02-01  2022-12-11    2022-12-11  \n",
       "2016-07-03 1900-02-01  2022-12-11    2022-12-11  \n",
       "2016-07-04 1900-02-01  2022-12-11    2022-12-11  \n",
       "2016-07-05 1900-02-01  2022-12-11    2022-12-11  \n",
       "2016-07-06 1900-02-01  2022-12-11    2022-12-11  "
      ]
     },
     "metadata": {},
     "output_type": "display_data"
    },
    {
     "name": "stdout",
     "output_type": "stream",
     "text": [
      "<class 'pandas.core.frame.DataFrame'>\n",
      "DatetimeIndex: 6 entries, 2016-07-01 to 2016-07-06\n",
      "Freq: D\n",
      "Data columns (total 9 columns):\n",
      " #   Column         Non-Null Count  Dtype         \n",
      "---  ------         --------------  -----         \n",
      " 0   0              6 non-null      float64       \n",
      " 1   1              6 non-null      float64       \n",
      " 2   2              6 non-null      float64       \n",
      " 3   3              6 non-null      float64       \n",
      " 4   yyyy_mm_dd     6 non-null      datetime64[ns]\n",
      " 5   yyyy           6 non-null      datetime64[ns]\n",
      " 6   mm             6 non-null      datetime64[ns]\n",
      " 7   Yr_Mo_dy       6 non-null      object        \n",
      " 8   Yr_Mo_dy_edit  6 non-null      datetime64[ns]\n",
      "dtypes: datetime64[ns](4), float64(4), object(1)\n",
      "memory usage: 480.0+ bytes\n"
     ]
    }
   ],
   "source": [
    "import pandas as pd \n",
    "import numpy as np \n",
    "\n",
    "#date range\n",
    "df = pd.DataFrame(np.random.randn(6,4))\n",
    "df.index = pd.date_range('20160701', periods = 6)\n",
    "df['yyyy_mm_dd'] = pd.date_range('20160701', periods = 6) #datetime\n",
    "df['yyyy'] = pd.to_datetime(\"2022\", format='%Y')\n",
    "df['mm'] = pd.to_datetime(\"02\", format='%m')\n",
    "df['Yr_Mo_dy'] = '2022-12-11'\n",
    "df['Yr_Mo_dy_edit'] = df['Yr_Mo_dy'].apply(pd.to_datetime)\n",
    " \n",
    "display(df)\n",
    "df.info()"
   ]
  }
 ],
 "metadata": {
  "kernelspec": {
   "display_name": "base",
   "language": "python",
   "name": "python3"
  },
  "language_info": {
   "codemirror_mode": {
    "name": "ipython",
    "version": 3
   },
   "file_extension": ".py",
   "mimetype": "text/x-python",
   "name": "python",
   "nbconvert_exporter": "python",
   "pygments_lexer": "ipython3",
   "version": "3.9.12 (main, Apr  5 2022, 01:53:17) \n[Clang 12.0.0 ]"
  },
  "orig_nbformat": 4,
  "vscode": {
   "interpreter": {
    "hash": "10852dbf0da5e50a47e1f62696659d5ba32ce64c569a85913bfe3a1bd11b8123"
   }
  }
 },
 "nbformat": 4,
 "nbformat_minor": 2
}
