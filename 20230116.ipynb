{
 "cells": [
  {
   "attachments": {},
   "cell_type": "markdown",
   "metadata": {},
   "source": [
    "# camelCase to snake_case"
   ]
  },
  {
   "cell_type": "code",
   "execution_count": 5,
   "metadata": {},
   "outputs": [
    {
     "name": "stdout",
     "output_type": "stream",
     "text": [
      "pooq_service_charge_type_id\n",
      "row_number\n",
      "auto_payment_service_log_id\n",
      "total_counts\n",
      "success_counts\n",
      "fail_counts\n",
      "retry_total_counts\n",
      "retry_success_counts\n",
      "retry_fail_counts\n",
      "retry_pass_counts\n",
      "start_date\n",
      "end_date\n",
      "register_date\n",
      "charge_type\n"
     ]
    }
   ],
   "source": [
    "import re \n",
    "\n",
    "#test = 'hey'\n",
    "def camel_to_snake(name):\n",
    "    s1 = re.sub('(.)([A-Z][a-z]+)', r'\\1_\\2', name)\n",
    "    #print(test)\n",
    "    return re.sub('([a-z0-9])([A-Z])', r'\\1_\\2', s1).lower()\n",
    "\n",
    "\n",
    "others_retry_successcol_names = ['pooqServiceChargeTypeId',\n",
    "                           'rowNumber',\n",
    "                           'autoPaymentServiceLogId',\n",
    "                           'totalCounts',\n",
    "                           'successCounts',\n",
    "                           'failCounts',\n",
    "                           'retryTotalCounts',\n",
    "                           'retrySuccessCounts',\n",
    "                           'retryFailCounts',\n",
    "                           'retryPassCounts',\n",
    "                           'startDate',\n",
    "                           'endDate',\n",
    "                           'registerDate',\n",
    "                           'chargeType']\n",
    "\n",
    "\n",
    "\n",
    "for item in others_retry_successcol_names:\n",
    "    #camel_to_snake(item)\n",
    "    snake = camel_to_snake(item)\n",
    "    print(snake)"
   ]
  }
 ],
 "metadata": {
  "kernelspec": {
   "display_name": "base",
   "language": "python",
   "name": "python3"
  },
  "language_info": {
   "codemirror_mode": {
    "name": "ipython",
    "version": 3
   },
   "file_extension": ".py",
   "mimetype": "text/x-python",
   "name": "python",
   "nbconvert_exporter": "python",
   "pygments_lexer": "ipython3",
   "version": "3.9.12"
  },
  "orig_nbformat": 4,
  "vscode": {
   "interpreter": {
    "hash": "10852dbf0da5e50a47e1f62696659d5ba32ce64c569a85913bfe3a1bd11b8123"
   }
  }
 },
 "nbformat": 4,
 "nbformat_minor": 2
}
