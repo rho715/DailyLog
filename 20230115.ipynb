{
 "cells": [
  {
   "attachments": {},
   "cell_type": "markdown",
   "metadata": {},
   "source": [
    "# 비주얼 스튜디오 코드 필수 단축키 정리 \n",
    "\n",
    "1. Use command palette `command + shift + p` \n",
    "2. Quick Open : `command + p` you can open a file \n",
    "3. User Settings : `command + ,` \n",
    "4. Toggle Sidebar : `command + b` close/open explorer sidebar \n",
    "5. Toogle Terminal : `control^ + ` close/open terminal \n",
    "6. Keyboard Shortcuts : `command + k + s` k.eyboard s.hortcut s\n",
    "7. begining/end of file : `command + ↑/↓` \n",
    "8. move lines : `option + ↑/↓` \n",
    "9. move words : `option + ←/→`\n",
    "10. select a word : `option + shift + ←/→` \n",
    "11. copy line down/up : `shift + option + ↑/↓`\n",
    "12. go to next new line in the middle of code : `commnnd + enter`\n",
    "13. multi select word : `command + d`\n",
    "14. go back to last worked cursor place : `command + u` \n",
    "15. multi-selection / box selection : `option + click` or `option + shift + drag`\n",
    "16. change all occurrence : `command + F2` or `command + shift + l`"
   ]
  },
  {
   "attachments": {},
   "cell_type": "markdown",
   "metadata": {},
   "source": [
    "# 비주얼 스튜디오 코드 신규 기능 + 필수 이스텐션 \n",
    "- "
   ]
  },
  {
   "cell_type": "markdown",
   "metadata": {},
   "source": []
  },
  {
   "attachments": {},
   "cell_type": "markdown",
   "metadata": {},
   "source": [
    "## 설명"
   ]
  },
  {
   "cell_type": "code",
   "execution_count": null,
   "metadata": {},
   "outputs": [],
   "source": []
  },
  {
   "attachments": {},
   "cell_type": "markdown",
   "metadata": {},
   "source": [
    "# Title"
   ]
  },
  {
   "attachments": {},
   "cell_type": "markdown",
   "metadata": {},
   "source": [
    "## 설명"
   ]
  },
  {
   "cell_type": "code",
   "execution_count": null,
   "metadata": {},
   "outputs": [],
   "source": []
  }
 ],
 "metadata": {
  "kernelspec": {
   "display_name": "base",
   "language": "python",
   "name": "python3"
  },
  "language_info": {
   "codemirror_mode": {
    "name": "ipython",
    "version": 3
   },
   "file_extension": ".py",
   "mimetype": "text/x-python",
   "name": "python",
   "nbconvert_exporter": "python",
   "pygments_lexer": "ipython3",
   "version": "3.9.12 (main, Apr  5 2022, 01:53:17) \n[Clang 12.0.0 ]"
  },
  "orig_nbformat": 4,
  "vscode": {
   "interpreter": {
    "hash": "10852dbf0da5e50a47e1f62696659d5ba32ce64c569a85913bfe3a1bd11b8123"
   }
  }
 },
 "nbformat": 4,
 "nbformat_minor": 2
}
