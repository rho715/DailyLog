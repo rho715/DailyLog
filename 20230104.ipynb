{
 "cells": [
  {
   "attachments": {},
   "cell_type": "markdown",
   "metadata": {},
   "source": [
    "# Check Currently Running Queries"
   ]
  },
  {
   "attachments": {},
   "cell_type": "markdown",
   "metadata": {},
   "source": [
    "## 현재 실행중인 쿼리 조회하기 "
   ]
  },
  {
   "cell_type": "code",
   "execution_count": null,
   "metadata": {},
   "outputs": [],
   "source": [
    "sql = \"\"\"    SELECT distinct creation_time, project_id, user_email, job_id , total_slot_ms\n",
    "    FROM `region-asia-northeast3`.INFORMATION_SCHEMA.JOBS_BY_ORGANIZATION\n",
    "    WHERE state = 'RUNNING'\n",
    "    order by total_slot_ms \n",
    "\"\"\""
   ]
  },
  {
   "attachments": {},
   "cell_type": "markdown",
   "metadata": {},
   "source": [
    "# Cancel Currently Running Queries"
   ]
  },
  {
   "attachments": {},
   "cell_type": "markdown",
   "metadata": {},
   "source": [
    "## 현재 실행중인 쿼리 job_id로 캔슬하기 [참고](#https://cloud.google.com/bigquery/docs/samples/bigquery-cancel-job#bigquery_cancel_job-python)"
   ]
  },
  {
   "cell_type": "code",
   "execution_count": null,
   "metadata": {},
   "outputs": [],
   "source": [
    "# cancel 함수 정의 \n",
    "from google.cloud import bigquery\n",
    "\n",
    "def cancel_job( client: bigquery.Client,\n",
    "    location: str = \"asia-northeast3\",\n",
    "    job_id: str = \"bquxjob_abcd\", \n",
    ") -> None:\n",
    "    job = client.cancel_job(job_id, location=location)\n",
    "    print(f\"{job.location}:{job.job_id} cancelled\")"
   ]
  },
  {
   "cell_type": "code",
   "execution_count": null,
   "metadata": {},
   "outputs": [],
   "source": [
    "# 크레덴셜 주기\n",
    "from google.oauth2 import service_account\n",
    "\n",
    "def get_credentials(key_path=None, scope=['https://www.googleapis.com/auth/cloud-platform']):\n",
    "    assert key_path\n",
    "\n",
    "    credentials = service_account.Credentials.from_service_account_file(filename=key_path, scopes=scope)        \n",
    "    return credentials"
   ]
  },
  {
   "cell_type": "code",
   "execution_count": null,
   "metadata": {},
   "outputs": [],
   "source": [
    "# 실행 \n",
    "credential = get_credentials('key.json')\n",
    "client = bigquery.Client(credentials =credential, project = 'project_id')\n",
    "cancel_job(client)"
   ]
  }
 ],
 "metadata": {
  "kernelspec": {
   "display_name": "base",
   "language": "python",
   "name": "python3"
  },
  "language_info": {
   "name": "python",
   "version": "3.9.12 (main, Apr  5 2022, 01:53:17) \n[Clang 12.0.0 ]"
  },
  "orig_nbformat": 4,
  "vscode": {
   "interpreter": {
    "hash": "10852dbf0da5e50a47e1f62696659d5ba32ce64c569a85913bfe3a1bd11b8123"
   }
  }
 },
 "nbformat": 4,
 "nbformat_minor": 2
}
