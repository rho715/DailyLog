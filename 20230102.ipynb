{
 "cells": [
  {
   "attachments": {},
   "cell_type": "markdown",
   "metadata": {},
   "source": [
    "# Python으로 웹 스크래퍼 만들기"
   ]
  },
  {
   "attachments": {},
   "cell_type": "markdown",
   "metadata": {},
   "source": [
    "## `return` vs `print`"
   ]
  },
  {
   "cell_type": "code",
   "execution_count": 4,
   "metadata": {},
   "outputs": [
    {
     "name": "stdout",
     "output_type": "stream",
     "text": [
      "🍓+🥤+🧊+🍭\n"
     ]
    }
   ],
   "source": [
    "def make_juice(fruit):\n",
    "\treturn f\"{fruit}+🥤\"\n",
    "\n",
    "def add_ice(juice):\n",
    "\treturn f\"{juice}+🧊\"\n",
    "\n",
    "def add_sugar(iced_juice):\n",
    "\treturn f\"{iced_juice}+🍭\"\n",
    "\n",
    "juice = make_juice(\"🍓\")\n",
    "cold_juice = add_ice(juice)\n",
    "perfect_juice = add_sugar(cold_juice)\n",
    "print(perfect_juice)"
   ]
  },
  {
   "cell_type": "code",
   "execution_count": 5,
   "metadata": {},
   "outputs": [
    {
     "name": "stdout",
     "output_type": "stream",
     "text": [
      "🍓+🥤\n",
      "None+🧊\n",
      "None+🍭\n",
      "None\n"
     ]
    }
   ],
   "source": [
    "def make_juice(fruit):\n",
    "\tprint( f\"{fruit}+🥤\")\n",
    "\n",
    "def add_ice(juice):\n",
    "\tprint( f\"{juice}+🧊\")\n",
    "\n",
    "def add_sugar(iced_juice):\n",
    "\tprint( f\"{iced_juice}+🍭\")\n",
    "\n",
    "juice = make_juice(\"🍓\")\n",
    "cold_juice = add_ice(juice)\n",
    "perfect_juice = add_sugar(cold_juice)\n",
    "print(perfect_juice)"
   ]
  },
  {
   "attachments": {},
   "cell_type": "markdown",
   "metadata": {},
   "source": [
    "# Title"
   ]
  },
  {
   "attachments": {},
   "cell_type": "markdown",
   "metadata": {},
   "source": [
    "## 설명"
   ]
  },
  {
   "cell_type": "code",
   "execution_count": null,
   "metadata": {},
   "outputs": [],
   "source": []
  }
 ],
 "metadata": {
  "kernelspec": {
   "display_name": "base",
   "language": "python",
   "name": "python3"
  },
  "language_info": {
   "codemirror_mode": {
    "name": "ipython",
    "version": 3
   },
   "file_extension": ".py",
   "mimetype": "text/x-python",
   "name": "python",
   "nbconvert_exporter": "python",
   "pygments_lexer": "ipython3",
   "version": "3.9.12 (main, Apr  5 2022, 01:53:17) \n[Clang 12.0.0 ]"
  },
  "orig_nbformat": 4,
  "vscode": {
   "interpreter": {
    "hash": "10852dbf0da5e50a47e1f62696659d5ba32ce64c569a85913bfe3a1bd11b8123"
   }
  }
 },
 "nbformat": 4,
 "nbformat_minor": 2
}
