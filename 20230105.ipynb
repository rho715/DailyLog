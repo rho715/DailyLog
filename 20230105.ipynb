{
 "cells": [
  {
   "attachments": {},
   "cell_type": "markdown",
   "metadata": {},
   "source": [
    "# Make Calculator"
   ]
  },
  {
   "attachments": {},
   "cell_type": "markdown",
   "metadata": {},
   "source": [
    "## practice `while` and `if/else` using python"
   ]
  },
  {
   "cell_type": "code",
   "execution_count": 3,
   "metadata": {},
   "outputs": [
    {
     "name": "stdout",
     "output_type": "stream",
     "text": [
      "True\n"
     ]
    }
   ],
   "source": [
    "first_input_number = input(\"please input your first number = \")\n",
    "#second_input_number = input(\"please input your second number = \")\n",
    "print(type(first_input_number)==str)"
   ]
  },
  {
   "cell_type": "code",
   "execution_count": null,
   "metadata": {},
   "outputs": [],
   "source": [
    "operation_type = ''\n",
    "\n",
    "\n",
    "while operation_type != 'exit' :\n",
    "  first_input_number = int(input(\"please input your first number : \"))\n",
    "  second_input_number = int(input(\"please input your second number : \"))\n",
    "  operation_type = input(\"choose your operation\\n (+, -, *, /) \\n write 'exit' to finish :\")\n",
    "  \n",
    "  \n",
    "  if operation_type == '+' :\n",
    "    print(\"your result is : \")\n",
    "    print( first_input_number + second_input_number )\n",
    "  elif operation_type == '-' :\n",
    "    print(\"your result is : \")\n",
    "    print( first_input_number - second_input_number )\n",
    "  elif operation_type == '*' :\n",
    "    print(\"your result is : \")\n",
    "    print( first_input_number * second_input_number )\n",
    "  elif operation_type == '/' :\n",
    "    print(\"your result is : \")\n",
    "    print( first_input_number / second_input_number )\n",
    "  elif operation_type == 'exit' :\n",
    "    print(\"Calculator Shut Down\")\n",
    "  else : \n",
    "    print(\"choose from (+, -, *, /) or write 'exit' to finish \\n starting over \")"
   ]
  },
  {
   "cell_type": "code",
   "execution_count": null,
   "metadata": {},
   "outputs": [],
   "source": [
    "def safe_divide(numerator, denominator, default=0):\n",
    "    try:\n",
    "        return numerator / denominator\n",
    "    except ZeroDivisionError:\n",
    "        return default\n",
    "\n",
    "result = safe_divide(10, 2)  # returns 5\n",
    "result = safe_divide(10, 0)  # returns 0\n",
    "result = safe_divide(10, 0, default=1)  # returns 1"
   ]
  },
  {
   "attachments": {},
   "cell_type": "markdown",
   "metadata": {},
   "source": [
    "# Title"
   ]
  },
  {
   "attachments": {},
   "cell_type": "markdown",
   "metadata": {},
   "source": [
    "## 설명"
   ]
  },
  {
   "cell_type": "code",
   "execution_count": null,
   "metadata": {},
   "outputs": [],
   "source": []
  }
 ],
 "metadata": {
  "kernelspec": {
   "display_name": "base",
   "language": "python",
   "name": "python3"
  },
  "language_info": {
   "codemirror_mode": {
    "name": "ipython",
    "version": 3
   },
   "file_extension": ".py",
   "mimetype": "text/x-python",
   "name": "python",
   "nbconvert_exporter": "python",
   "pygments_lexer": "ipython3",
   "version": "3.9.12"
  },
  "orig_nbformat": 4,
  "vscode": {
   "interpreter": {
    "hash": "10852dbf0da5e50a47e1f62696659d5ba32ce64c569a85913bfe3a1bd11b8123"
   }
  }
 },
 "nbformat": 4,
 "nbformat_minor": 2
}
